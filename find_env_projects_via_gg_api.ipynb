{
 "cells": [
  {
   "cell_type": "markdown",
   "metadata": {},
   "source": [
    "## Aim: Find the top environmental projects listed on globalgiving.org.\n",
    "I did this using the global giving api (https://www.globalgiving.org/api/) to provide a way, in the future, to quickly scale up the search and parse through more results.\n",
    "\n",
    "**Tools used:** \n",
    "* GlobalGiving API\n",
    "* Pandas to get data in presentable final format\n",
    "* BeautifulSoup to parse through the API's XML format\n",
    "* Requests instead of cURL because I prefer to visualize process in Jupyter"
   ]
  },
  {
   "cell_type": "code",
   "execution_count": 1,
   "metadata": {},
   "outputs": [],
   "source": [
    "import pandas as pd\n",
    "import requests\n",
    "import io\n",
    "from bs4 import BeautifulSoup"
   ]
  },
  {
   "cell_type": "markdown",
   "metadata": {},
   "source": [
    "api_key = XXXXX"
   ]
  },
  {
   "cell_type": "code",
   "execution_count": 133,
   "metadata": {},
   "outputs": [],
   "source": [
    "# pass the necessary parameters, as instructed by https://www.globalgiving.org/api/methods/\n",
    "parameters = {'api_key':api_key,'q':'*','filter':'theme:env'}"
   ]
  },
  {
   "cell_type": "code",
   "execution_count": 134,
   "metadata": {},
   "outputs": [],
   "source": [
    "theme_res = requests.get('https://api.globalgiving.org/api/public/projectservice/themes',params=parameters)"
   ]
  },
  {
   "cell_type": "code",
   "execution_count": 135,
   "metadata": {},
   "outputs": [
    {
     "name": "stdout",
     "output_type": "stream",
     "text": [
      "UTF-8\n"
     ]
    }
   ],
   "source": [
    "encoding = theme_res.encoding\n",
    "text = theme_res.text\n",
    "print(encoding)"
   ]
  },
  {
   "cell_type": "code",
   "execution_count": 136,
   "metadata": {},
   "outputs": [],
   "source": [
    "# function to parse through requests XML output using BeautifulSoup\n",
    "def parse_source(xml, encoding='utf-8'):\n",
    "    parsed = BeautifulSoup(xml, from_encoding=encoding)\n",
    "    return parsed"
   ]
  },
  {
   "cell_type": "code",
   "execution_count": 139,
   "metadata": {},
   "outputs": [],
   "source": [
    "parsed = parse_source(text,\"xml_parser\")"
   ]
  },
  {
   "cell_type": "markdown",
   "metadata": {},
   "source": [
    "### Begin experimenting with pulling different subheaders of content from parsed XML"
   ]
  },
  {
   "cell_type": "code",
   "execution_count": 140,
   "metadata": {},
   "outputs": [],
   "source": [
    "id_rows = parsed.find_all('id')\n",
    "name_rows = parsed.find_all('name')"
   ]
  },
  {
   "cell_type": "code",
   "execution_count": 141,
   "metadata": {},
   "outputs": [],
   "source": [
    "l = []\n",
    "s = []\n",
    "\n",
    "for row in range(len(id_rows)):\n",
    "    new_row = id_rows[row].text\n",
    "    new_name = name_rows[row].text\n",
    "    l.append(new_row)\n",
    "    s.append(new_name)"
   ]
  },
  {
   "cell_type": "code",
   "execution_count": 142,
   "metadata": {},
   "outputs": [],
   "source": [
    "df = pd.DataFrame({\"ID\": l,\"Name\": s})"
   ]
  },
  {
   "cell_type": "code",
   "execution_count": 145,
   "metadata": {},
   "outputs": [
    {
     "data": {
      "text/html": [
       "<div>\n",
       "<style scoped>\n",
       "    .dataframe tbody tr th:only-of-type {\n",
       "        vertical-align: middle;\n",
       "    }\n",
       "\n",
       "    .dataframe tbody tr th {\n",
       "        vertical-align: top;\n",
       "    }\n",
       "\n",
       "    .dataframe thead th {\n",
       "        text-align: right;\n",
       "    }\n",
       "</style>\n",
       "<table border=\"1\" class=\"dataframe\">\n",
       "  <thead>\n",
       "    <tr style=\"text-align: right;\">\n",
       "      <th></th>\n",
       "      <th>ID</th>\n",
       "      <th>Name</th>\n",
       "    </tr>\n",
       "  </thead>\n",
       "  <tbody>\n",
       "    <tr>\n",
       "      <th>0</th>\n",
       "      <td>animals</td>\n",
       "      <td>Animals</td>\n",
       "    </tr>\n",
       "    <tr>\n",
       "      <th>1</th>\n",
       "      <td>children</td>\n",
       "      <td>Children</td>\n",
       "    </tr>\n",
       "    <tr>\n",
       "      <th>2</th>\n",
       "      <td>climate</td>\n",
       "      <td>Climate Change</td>\n",
       "    </tr>\n",
       "    <tr>\n",
       "      <th>3</th>\n",
       "      <td>democ</td>\n",
       "      <td>Democracy and Governance</td>\n",
       "    </tr>\n",
       "    <tr>\n",
       "      <th>4</th>\n",
       "      <td>disaster</td>\n",
       "      <td>Disaster Recovery</td>\n",
       "    </tr>\n",
       "  </tbody>\n",
       "</table>\n",
       "</div>"
      ],
      "text/plain": [
       "         ID                      Name\n",
       "0   animals                   Animals\n",
       "1  children                  Children\n",
       "2   climate            Climate Change\n",
       "3     democ  Democracy and Governance\n",
       "4  disaster         Disaster Recovery"
      ]
     },
     "execution_count": 145,
     "metadata": {},
     "output_type": "execute_result"
    }
   ],
   "source": [
    "# checking output of query\n",
    "df.head()"
   ]
  },
  {
   "cell_type": "markdown",
   "metadata": {},
   "source": [
    "### Now that I'm familiar with the API, I'm going to pull the top environmental projects. \n",
    "Since XML format has multiple nested layers, I'm only pulling relevant, non-nested info"
   ]
  },
  {
   "cell_type": "code",
   "execution_count": 144,
   "metadata": {},
   "outputs": [],
   "source": [
    "projects_res = requests.get('https://api.globalgiving.org/api/public/services/search/projects/summary',params=parameters)"
   ]
  },
  {
   "cell_type": "code",
   "execution_count": 146,
   "metadata": {},
   "outputs": [],
   "source": [
    "env_encoding = projects_res.encoding\n",
    "env_text = projects_res.text"
   ]
  },
  {
   "cell_type": "code",
   "execution_count": 147,
   "metadata": {},
   "outputs": [],
   "source": [
    "parsed = parse_source(env_text,\"xml_parser\")"
   ]
  },
  {
   "cell_type": "code",
   "execution_count": 148,
   "metadata": {},
   "outputs": [],
   "source": [
    "mission_rows = parsed.find_all('mission')\n",
    "title_rows = parsed.find_all('title')\n",
    "summary_rows = parsed.find_all('summary')\n",
    "url_rows = parsed.find_all('url')"
   ]
  },
  {
   "cell_type": "code",
   "execution_count": 149,
   "metadata": {},
   "outputs": [],
   "source": [
    "# correct for error in summary rows\n",
    "summary_rows = summary_rows[1:]"
   ]
  },
  {
   "cell_type": "code",
   "execution_count": 151,
   "metadata": {},
   "outputs": [],
   "source": [
    "a = []\n",
    "b = []\n",
    "c = []\n",
    "d = []"
   ]
  },
  {
   "cell_type": "code",
   "execution_count": 152,
   "metadata": {},
   "outputs": [],
   "source": [
    "for row in range(len(mission_rows)):\n",
    "    new_mission = mission_rows[row].text\n",
    "    new_title = title_rows[row].text\n",
    "    new_summary = summary_rows[row].text\n",
    "    new_url = url_rows[row].text\n",
    "\n",
    "    a.append(new_mission)\n",
    "    b.append(new_title)\n",
    "    c.append(new_summary)\n",
    "    d.append(new_url)    "
   ]
  },
  {
   "cell_type": "code",
   "execution_count": 153,
   "metadata": {},
   "outputs": [],
   "source": [
    "new_df = pd.DataFrame({\"Mission\": a,\"Title\": b, \"Summary\": c, \"URL\": d})"
   ]
  },
  {
   "cell_type": "code",
   "execution_count": 155,
   "metadata": {},
   "outputs": [
    {
     "data": {
      "text/html": [
       "<div>\n",
       "<style scoped>\n",
       "    .dataframe tbody tr th:only-of-type {\n",
       "        vertical-align: middle;\n",
       "    }\n",
       "\n",
       "    .dataframe tbody tr th {\n",
       "        vertical-align: top;\n",
       "    }\n",
       "\n",
       "    .dataframe thead th {\n",
       "        text-align: right;\n",
       "    }\n",
       "</style>\n",
       "<table border=\"1\" class=\"dataframe\">\n",
       "  <thead>\n",
       "    <tr style=\"text-align: right;\">\n",
       "      <th></th>\n",
       "      <th>Mission</th>\n",
       "      <th>Summary</th>\n",
       "      <th>Title</th>\n",
       "      <th>URL</th>\n",
       "    </tr>\n",
       "  </thead>\n",
       "  <tbody>\n",
       "    <tr>\n",
       "      <th>0</th>\n",
       "      <td>VISION: To see all children enter adulthood wi...</td>\n",
       "      <td>Join Keep The Dream196 in changing 2,587 South...</td>\n",
       "      <td>Lifeskills for 2,587 Children in South Africa</td>\n",
       "      <td>http://www.keepthedream196.com</td>\n",
       "    </tr>\n",
       "    <tr>\n",
       "      <th>1</th>\n",
       "      <td>The High Atlas Foundation (HAF) is dedicated t...</td>\n",
       "      <td>Sami's Project will plant 5,000 fruit and nut ...</td>\n",
       "      <td>Improve Rural Moroccan Schools: Sami's Project</td>\n",
       "      <td>http://www.highatlasfoundation.org</td>\n",
       "    </tr>\n",
       "    <tr>\n",
       "      <th>2</th>\n",
       "      <td>We aim to revolutionize global health with com...</td>\n",
       "      <td>Jake's Diapers serves babies around the world ...</td>\n",
       "      <td>#savethebabies: Help Children Rise out of Poverty</td>\n",
       "      <td>http://www.jakesdiapers.org</td>\n",
       "    </tr>\n",
       "    <tr>\n",
       "      <th>3</th>\n",
       "      <td>Fellow Mortals is more than a place. It is a l...</td>\n",
       "      <td>Fellow Mortals provides compassionate and prof...</td>\n",
       "      <td>Fellow Mortals--Compassion Changes Everything</td>\n",
       "      <td>http://www.fellowmortals.org</td>\n",
       "    </tr>\n",
       "    <tr>\n",
       "      <th>4</th>\n",
       "      <td>To provide protection for those who, by no fau...</td>\n",
       "      <td>Mickaboo Companion Bird Rescue, based in North...</td>\n",
       "      <td>Rescue Unwanted and Abandoned Companion Birds</td>\n",
       "      <td>http://www.mickaboo.org</td>\n",
       "    </tr>\n",
       "  </tbody>\n",
       "</table>\n",
       "</div>"
      ],
      "text/plain": [
       "                                             Mission  \\\n",
       "0  VISION: To see all children enter adulthood wi...   \n",
       "1  The High Atlas Foundation (HAF) is dedicated t...   \n",
       "2  We aim to revolutionize global health with com...   \n",
       "3  Fellow Mortals is more than a place. It is a l...   \n",
       "4  To provide protection for those who, by no fau...   \n",
       "\n",
       "                                             Summary  \\\n",
       "0  Join Keep The Dream196 in changing 2,587 South...   \n",
       "1  Sami's Project will plant 5,000 fruit and nut ...   \n",
       "2  Jake's Diapers serves babies around the world ...   \n",
       "3  Fellow Mortals provides compassionate and prof...   \n",
       "4  Mickaboo Companion Bird Rescue, based in North...   \n",
       "\n",
       "                                               Title  \\\n",
       "0      Lifeskills for 2,587 Children in South Africa   \n",
       "1     Improve Rural Moroccan Schools: Sami's Project   \n",
       "2  #savethebabies: Help Children Rise out of Poverty   \n",
       "3      Fellow Mortals--Compassion Changes Everything   \n",
       "4      Rescue Unwanted and Abandoned Companion Birds   \n",
       "\n",
       "                                  URL  \n",
       "0      http://www.keepthedream196.com  \n",
       "1  http://www.highatlasfoundation.org  \n",
       "2         http://www.jakesdiapers.org  \n",
       "3        http://www.fellowmortals.org  \n",
       "4             http://www.mickaboo.org  "
      ]
     },
     "execution_count": 155,
     "metadata": {},
     "output_type": "execute_result"
    }
   ],
   "source": [
    "new_df.head()"
   ]
  },
  {
   "cell_type": "code",
   "execution_count": 128,
   "metadata": {},
   "outputs": [],
   "source": [
    "new_df.to_csv('wren_new_projects.csv')"
   ]
  }
 ],
 "metadata": {
  "kernelspec": {
   "display_name": "Python 2",
   "language": "python",
   "name": "python2"
  },
  "language_info": {
   "codemirror_mode": {
    "name": "ipython",
    "version": 2
   },
   "file_extension": ".py",
   "mimetype": "text/x-python",
   "name": "python",
   "nbconvert_exporter": "python",
   "pygments_lexer": "ipython2",
   "version": "2.7.16"
  }
 },
 "nbformat": 4,
 "nbformat_minor": 2
}
